{
 "cells": [
  {
   "cell_type": "code",
   "execution_count": 2,
   "id": "5b904396",
   "metadata": {},
   "outputs": [],
   "source": [
    "import pandas as pd \n",
    "import requests\n",
    "from bs4 import BeautifulSoup"
   ]
  },
  {
   "cell_type": "code",
   "execution_count": 30,
   "id": "dc9bdc10",
   "metadata": {},
   "outputs": [],
   "source": [
    "url = 'https://www.cuspide.com'"
   ]
  },
  {
   "cell_type": "code",
   "execution_count": 34,
   "id": "410db780",
   "metadata": {},
   "outputs": [
    {
     "name": "stdout",
     "output_type": "stream",
     "text": [
      "https://www.cuspide.com/top100.aspx\n"
     ]
    }
   ],
   "source": [
    "req = requests.get(url)\n",
    "soup = BeautifulSoup(req.text, 'lxml')\n",
    "top_100 = soup.find('a',attrs={'class': 'seeMore'})\n",
    "top_100 = url + top_100.get('href')\n",
    "print(top_100)"
   ]
  },
  {
   "cell_type": "code",
   "execution_count": 40,
   "id": "d99ed041",
   "metadata": {},
   "outputs": [
    {
     "name": "stdout",
     "output_type": "stream",
     "text": [
      "90\n",
      "['https://www.cuspide.com/Libro/9788484456810/Este+Dolor+No+Es+Mio', 'https://www.cuspide.com/Libro/9789877364262/Una+Familia+Anormal', 'https://www.cuspide.com/Libro/9789504977384/La+Ultima+Encrucijada', 'https://www.cuspide.com/Libro/9789500769013/El+Viento+Conoce+Mi+Nombre', 'https://www.cuspide.com/Libro/9789508701985/Pato+Horneado+Y+El+Rescate+En+La+Jungla', 'https://www.cuspide.com/Libro/9789504979456/Born+Y+Quieto', 'https://www.cuspide.com/Libro/9789878266374/Nosotros+Dos+En+La+Tormenta', 'https://www.cuspide.com/Libro/9789878151885/Gaturro+Messi', 'https://www.cuspide.com/Libro/9789878151632/La+Scaloneta', 'https://www.cuspide.com/Libro/9789877950465/El+Poder+De+Las+Palabras', 'https://www.cuspide.com/Libro/9789501298321/Habitos+Atomicos', 'https://www.cuspide.com/Libro/9788425432026/El+Hombre+En+Busca+De+Sentido', 'https://www.cuspide.com/Libro/9789877188158/Pais+De+Mierda', 'https://www.cuspide.com/Libro/9789877478877/Solitario', 'https://www.cuspide.com/Libro/9789504982982/Alas+De+Sangre', 'https://www.cuspide.com/Libro/9789878220079/El+Duelo+(+Cuando+El+Dolor+Se+Hace+Carne+)', 'https://www.cuspide.com/Libro/9789877479102/Este+Invierno', 'https://www.cuspide.com/Libro/9789500213998/La+Vaca+No+Se+Calla', 'https://www.cuspide.com/Libro/9789507880223/Los+Cuatro+Acuerdos', 'https://www.cuspide.com/Libro/9789877391695/Un+Cuento+Perfecto', 'https://www.cuspide.com/Libro/9789874892508/Mis+Dias+En+La+Libreria+Morisaki', 'https://www.cuspide.com/Libro/9789504982067/Tengase+Presente', 'https://www.cuspide.com/Libro/9789504979395/Adios+Cachorra', 'https://www.cuspide.com/Libro/9789878940182/Dibu+Martinez+++Pasion+Por+El+Futbol', 'https://www.cuspide.com/Libro/9789877801750/Muchas+Vidas+++Muchos+Maestros', 'https://www.cuspide.com/Libro/9788413621654/La+Biblioteca+De+La+Medianoche', 'https://www.cuspide.com/Libro/9788433998064/Las+Cosas+Que+Perdimos+En+El+Fuego', 'https://www.cuspide.com/Libro/9789877475876/Heartstopper', 'https://www.cuspide.com/Libro/9789501204070/El+Amor+Es+Imposible', 'https://www.cuspide.com/Libro/9789878151335/Messi+++Campeon+Del+Mundo', 'https://www.cuspide.com/Libro/9789877364026/Las+Aventuras+De+Lyna+Y+Dani+++Elige+Tu+Historia', 'https://www.cuspide.com/Libro/9789504978251/Conocer+A+Peron', 'https://www.cuspide.com/Libro/9788413622132/La+Cancion+De+Aquiles', 'https://www.cuspide.com/Libro/9789874063656/Cometierra+10+Edic', 'https://www.cuspide.com/Libro/9789506446567/Antes+De+Que+Se+Enfrie+El+Cafe', 'https://www.cuspide.com/Libro/9789504979043/Los+Guemes', 'https://www.cuspide.com/Libro/9789506446840/La+Aventura', 'https://www.cuspide.com/Libro/9788433998248/Los+Peligros+De+Fumar+En+La+Cama', 'https://www.cuspide.com/Libro/9789507883774/Ikigai++Vintage', 'https://www.cuspide.com/Libro/9789874777737/Los+Siete+Maridos+De+Evelyn+Hugo', 'https://www.cuspide.com/Libro/9789878204284/Elementos', 'https://www.cuspide.com/Libro/9789501296808/Destroza+Este+Diario+(+A+Todo+Color+)', 'https://www.cuspide.com/Libro/9789877476583/Heartstopper+2', 'https://www.cuspide.com/Libro/9789878289953/El+Gato+Y+La+Ciudad', 'https://www.cuspide.com/Libro/9789506446758/La+Felicidad+Cabe+En+Una+Taza+De+Cafe', 'https://www.cuspide.com/Libro/9789500769228/Conurbano+Salvaje', 'https://www.cuspide.com/Libro/9789877478235/Una+Luna+Sin+Miel', 'https://www.cuspide.com/Libro/9789878474670/El+Secreto+De+Paris', 'https://www.cuspide.com/Libro/9789875661318/Como+Ganar+Amigos+E+Influir+Sobre+Las+Personas', 'https://www.cuspide.com/Libro/9789878988528/A+Jugar+Con+Los+Campeones', 'https://www.cuspide.com/Libro/9788433998859/Nuestra+Parte+De+Noche', 'https://www.cuspide.com/Libro/9789874863324/Meditaciones', 'https://www.cuspide.com/Libro/9789877478242/Nick+Y+Charlie', 'https://www.cuspide.com/Libro/9789504981107/Apia+De+Roma', 'https://www.cuspide.com/Libro/9789877254990/El+Club+De+Las+5+De+La+Ma%c3%b1ana', 'https://www.cuspide.com/Libro/9789504979050/Blanca+La+Ni+A+Que+Queria+Volar', 'https://www.cuspide.com/Libro/9789502816272/Un+Ratito+Mas', 'https://www.cuspide.com/Libro/9789507883569/Pensar+A+La+Japonesa', 'https://www.cuspide.com/Libro/9788419743237/Messi+Crack', 'https://www.cuspide.com/Libro/9789877476972/Heartstopper+3', 'https://www.cuspide.com/Libro/9788433901927/Fortuna', 'https://www.cuspide.com/Libro/9789874729309/Los+Arboles+Caidos+Tambien+Son+Del+Bosque', 'https://www.cuspide.com/Libro/9789877352306/El+Camino+Del+Artista', 'https://www.cuspide.com/Libro/9786316508164/Desde+La+Boca', 'https://www.cuspide.com/Libro/9789878977560/Mejor+Que+En+Las+Peliculas', 'https://www.cuspide.com/Libro/9786313000319/Heartstopper+1++Edicion+Especial', 'https://www.cuspide.com/Libro/9789504962137/La+Bailarina+De+Auschwitz', 'https://www.cuspide.com/Libro/9789871786954/Steve+Jobs++Lecciones+De+Liderazgo', 'https://www.cuspide.com/Libro/9789501206579/Los+7+Habitos+De+La+Gente+Altamente+Efectiva+(30+Aniversario)', 'https://www.cuspide.com/Libro/9789871524525/La+Revolucion+De+La+Glucosa', 'https://www.cuspide.com/Libro/9789876707800/Esta+No+Soy+Yo', 'https://www.cuspide.com/Libro/9789500442718/La+Uruguaya', 'https://www.cuspide.com/Libro/9789878473833/La+Interlengua', 'https://www.cuspide.com/Libro/9789502814919/El+Monje+Que+Vendio+Su+Ferrari', 'https://www.cuspide.com/Libro/9789873881602/Sana+A+Tus+Antepasados+Para+Sanar+Tu+Vida', 'https://www.cuspide.com/Libro/9789876127257/Los+Vestidos+De+Lena', 'https://www.cuspide.com/Libro/9789878281445/La+Segunda+Venida+De+Hilda+Bustamante', 'https://www.cuspide.com/Libro/9789507325878/Te+Espero+En+El+Fin+Del+Mundo', 'https://www.cuspide.com/Libro/9789877392128/Como+(+No+)+Escribi+Nuestra+Historia', 'https://www.cuspide.com/Libro/9788433980830/Las+Gratitudes', 'https://www.cuspide.com/Libro/9789878435435/Todo+Lo+Que+Nunca+Fuimos++(+Deja+Que+Ocurra+1+)_', 'https://www.cuspide.com/Libro/9789500768757/Sarmiento', 'https://www.cuspide.com/Libro/9789871138715/Tus+Zonas+Erroneas', 'https://www.cuspide.com/Libro/9789875665613/El+Monje+Que+Vendio+Su+Ferrari', 'https://www.cuspide.com/Libro/9789508702296/Compas+9++Los+Compas+Y+El+Despertar+De+La+Momia', 'https://www.cuspide.com/Libro/9789501532609/Lo+Nuestro+Fue+Real', 'https://www.cuspide.com/Libro/9789878266176/Miseria', 'https://www.cuspide.com/Libro/9789877477474/Heartstopper+4', 'https://www.cuspide.com/Libro/9789506446796/Los+Adversarios', 'https://www.cuspide.com/Libro/9789878151373/Gaturro+Campeones']\n"
     ]
    }
   ],
   "source": [
    "req = requests.get(top_100)\n",
    "soup = BeautifulSoup(req.text, 'lxml')\n",
    "secciones = soup.find('div', attrs={'class': 'content'}).find_all('article')\n",
    "libros = [url + seccion.a.get('href') for seccion in secciones]\n",
    "print(len(libros), libros, sep='\\n')"
   ]
  },
  {
   "cell_type": "code",
   "execution_count": 124,
   "id": "e6293217",
   "metadata": {},
   "outputs": [
    {
     "data": {
      "text/plain": [
       "7900.0"
      ]
     },
     "execution_count": 124,
     "metadata": {},
     "output_type": "execute_result"
    }
   ],
   "source": [
    "req = requests.get('https://www.cuspide.com/Libro/9788484456810/Este+Dolor+No+Es+Mio')\n",
    "soup = BeautifulSoup(req.text, 'lxml')\n",
    "soup.find('h1', attrs={'itemprop': 'name'}).find('a').get('title')\n",
    "soup.find('meta', attrs={'itemprop': 'price'}).get('content')\n",
    "float(soup.find('div', attrs={'class': 'column-left'}).find_all('div')[-2].text.replace('AR$ ', '').replace('.','').replace(',','.'))"
   ]
  },
  {
   "cell_type": "code",
   "execution_count": 84,
   "id": "2137eac8",
   "metadata": {},
   "outputs": [
    {
     "data": {
      "text/plain": [
       "605.0"
      ]
     },
     "execution_count": 84,
     "metadata": {},
     "output_type": "execute_result"
    }
   ],
   "source": [
    "req = requests.get('https://dolarhoy.com/cotizaciondolarblue')\n",
    "soup = BeautifulSoup(req.text, 'lxml')\n",
    "soup.find_all('div', attrs={'class': 'value'})[1].text\n",
    "\n",
    "valor_dolar = soup.find_all('div', attrs={'class': 'value'})[1].text\n",
    "valor_dolar = valor_dolar.replace('$', '')\n",
    "float(valor_dolar)"
   ]
  },
  {
   "cell_type": "code",
   "execution_count": 109,
   "id": "ce6367a9",
   "metadata": {},
   "outputs": [],
   "source": [
    "password = open('utilities.txt', mode='r')"
   ]
  },
  {
   "cell_type": "code",
   "execution_count": 113,
   "id": "5b6dc9db",
   "metadata": {},
   "outputs": [
    {
     "data": {
      "text/plain": [
       "'44178568G403hero'"
      ]
     },
     "execution_count": 113,
     "metadata": {},
     "output_type": "execute_result"
    }
   ],
   "source": [
    "password.readline().replace('\\n','')"
   ]
  },
  {
   "cell_type": "code",
   "execution_count": 126,
   "id": "369de79f",
   "metadata": {},
   "outputs": [
    {
     "data": {
      "text/plain": [
       "[0.5, 1.0, 1.5]"
      ]
     },
     "execution_count": 126,
     "metadata": {},
     "output_type": "execute_result"
    }
   ],
   "source": [
    "x =[1,2,3]\n",
    "y =[n/2 for n in x]\n",
    "y"
   ]
  },
  {
   "cell_type": "code",
   "execution_count": 129,
   "id": "ab686065",
   "metadata": {},
   "outputs": [
    {
     "data": {
      "text/plain": [
       "['https://www.cuspide.com/Libro/9788484456810/Este+Dolor+No+Es+Mio',\n",
       " 'https://www.cuspide.com/Libro/9789877364262/Una+Familia+Anormal',\n",
       " 'https://www.cuspide.com/Libro/9789504977384/La+Ultima+Encrucijada',\n",
       " 'https://www.cuspide.com/Libro/9789500769013/El+Viento+Conoce+Mi+Nombre',\n",
       " 'https://www.cuspide.com/Libro/9789508701985/Pato+Horneado+Y+El+Rescate+En+La+Jungla',\n",
       " 'https://www.cuspide.com/Libro/9789504979456/Born+Y+Quieto',\n",
       " 'https://www.cuspide.com/Libro/9789878266374/Nosotros+Dos+En+La+Tormenta',\n",
       " 'https://www.cuspide.com/Libro/9789878151885/Gaturro+Messi',\n",
       " 'https://www.cuspide.com/Libro/9789878151632/La+Scaloneta',\n",
       " 'https://www.cuspide.com/Libro/9789877950465/El+Poder+De+Las+Palabras',\n",
       " 'https://www.cuspide.com/Libro/9789501298321/Habitos+Atomicos',\n",
       " 'https://www.cuspide.com/Libro/9788425432026/El+Hombre+En+Busca+De+Sentido',\n",
       " 'https://www.cuspide.com/Libro/9789877188158/Pais+De+Mierda',\n",
       " 'https://www.cuspide.com/Libro/9789877478877/Solitario',\n",
       " 'https://www.cuspide.com/Libro/9789504982982/Alas+De+Sangre',\n",
       " 'https://www.cuspide.com/Libro/9789500769013/El+Viento+Conoce+Mi+Nombre',\n",
       " 'https://www.cuspide.com/Libro/9789878266374/Nosotros+Dos+En+La+Tormenta',\n",
       " 'https://www.cuspide.com/Libro/9789878151885/Gaturro+Messi',\n",
       " 'https://www.cuspide.com/Libro/9789877391695/Un+Cuento+Perfecto',\n",
       " 'https://www.cuspide.com/Libro/9789874892508/Mis+Dias+En+La+Libreria+Morisaki',\n",
       " 'https://www.cuspide.com/Libro/9789504979395/Adios+Cachorra',\n",
       " 'https://www.cuspide.com/Libro/9788413621654/La+Biblioteca+De+La+Medianoche',\n",
       " 'https://www.cuspide.com/Libro/9788433998064/Las+Cosas+Que+Perdimos+En+El+Fuego',\n",
       " 'https://www.cuspide.com/Libro/9788413622132/La+Cancion+De+Aquiles',\n",
       " 'https://www.cuspide.com/Libro/9789874063656/Cometierra+10+Edic',\n",
       " 'https://www.cuspide.com/Libro/9789500769204/Hogwarts+Legacy+++La+Guia+Oficial+Del+Videojuego',\n",
       " 'https://www.cuspide.com/Libro/9789500769198/El+Planner+Y+Gaturro',\n",
       " 'https://www.cuspide.com/Libro/9789874819376/Donde+Dejar+A+Mi+Hermanita',\n",
       " 'https://www.cuspide.com/Libro/9789915670102/Te+Lo+Suplico+++++Por+Favor+No+Abrir+Este+Libro',\n",
       " 'https://www.cuspide.com/Libro/9789501139204/Canciones+De+Cuna+Y+Luna',\n",
       " 'https://www.cuspide.com/Libro/9789878204284/Elementos',\n",
       " 'https://www.cuspide.com/Libro/9789508702333/El+Escondite+De+Los+Compas',\n",
       " 'https://www.cuspide.com/Libro/9789878204000/Quiz+Book+Guia+Esencial+Del+Mundo+Jurasico',\n",
       " 'https://www.cuspide.com/Libro/9789878151045/Burundi+++De+Extra%c3%b1os+Dragones+Y+Falsos+Meteoritos',\n",
       " 'https://www.cuspide.com/Libro/9789504982517/Parasyte+06+08',\n",
       " 'https://www.cuspide.com/Libro/9788419730732/1++Loser+Ranger',\n",
       " 'https://www.cuspide.com/Libro/9788419816719/7++Vagabond',\n",
       " 'https://www.cuspide.com/Libro/9789878987392/3++Farewell+My+Dear+Cramer',\n",
       " 'https://www.cuspide.com/Libro/9788419816443/19++Haikyu']"
      ]
     },
     "execution_count": 129,
     "metadata": {},
     "output_type": "execute_result"
    }
   ],
   "source": [
    "req = requests.get('https://www.cuspide.com')\n",
    "assert req.status_code == 200, 'Hay un problema con la pagina del top'\n",
    "\n",
    "soup = BeautifulSoup(req.text, 'lxml')\n",
    "secciones = soup.find('div', attrs={'class': 'content'}).find_all('article')\n",
    "libros = [url + seccion.a.get('href') for seccion in secciones]\n",
    "\n",
    "libros"
   ]
  },
  {
   "cell_type": "code",
   "execution_count": 130,
   "id": "70b72c34",
   "metadata": {},
   "outputs": [
    {
     "ename": "TypeError",
     "evalue": "can only concatenate str (not \"Tag\") to str",
     "output_type": "error",
     "traceback": [
      "\u001b[1;31m---------------------------------------------------------------------------\u001b[0m",
      "\u001b[1;31mTypeError\u001b[0m                                 Traceback (most recent call last)",
      "\u001b[1;32m~\\AppData\\Local\\Temp/ipykernel_32792/1364728255.py\u001b[0m in \u001b[0;36m<module>\u001b[1;34m\u001b[0m\n\u001b[1;32m----> 1\u001b[1;33m \u001b[0mtop_url\u001b[0m \u001b[1;33m=\u001b[0m \u001b[0murl\u001b[0m \u001b[1;33m+\u001b[0m \u001b[0msoup\u001b[0m\u001b[1;33m.\u001b[0m\u001b[0mfind\u001b[0m\u001b[1;33m(\u001b[0m\u001b[1;34m'a'\u001b[0m\u001b[1;33m,\u001b[0m \u001b[0mattrs\u001b[0m\u001b[1;33m=\u001b[0m\u001b[1;33m{\u001b[0m\u001b[1;34m'class'\u001b[0m\u001b[1;33m:\u001b[0m \u001b[1;34m'seeMore'\u001b[0m\u001b[1;33m}\u001b[0m\u001b[1;33m)\u001b[0m\u001b[1;33m\u001b[0m\u001b[1;33m\u001b[0m\u001b[0m\n\u001b[0m",
      "\u001b[1;31mTypeError\u001b[0m: can only concatenate str (not \"Tag\") to str"
     ]
    }
   ],
   "source": [
    "top_url = url + soup.find('a', attrs={'class': 'seeMore'})"
   ]
  },
  {
   "cell_type": "code",
   "execution_count": 135,
   "id": "6d87c382",
   "metadata": {},
   "outputs": [
    {
     "data": {
      "text/plain": [
       "'https://www.cuspide.com/top100.aspx'"
      ]
     },
     "execution_count": 135,
     "metadata": {},
     "output_type": "execute_result"
    }
   ],
   "source": [
    "url + soup.find('a', attrs={'class': 'seeMore'}).get('href')"
   ]
  },
  {
   "cell_type": "code",
   "execution_count": 137,
   "id": "bb580557",
   "metadata": {},
   "outputs": [
    {
     "data": {
      "text/plain": [
       "['https://www.cuspide.com/Libro/9788484456810/Este+Dolor+No+Es+Mio',\n",
       " 'https://www.cuspide.com/Libro/9789877364262/Una+Familia+Anormal',\n",
       " 'https://www.cuspide.com/Libro/9789504977384/La+Ultima+Encrucijada',\n",
       " 'https://www.cuspide.com/Libro/9789500769013/El+Viento+Conoce+Mi+Nombre',\n",
       " 'https://www.cuspide.com/Libro/9789508701985/Pato+Horneado+Y+El+Rescate+En+La+Jungla',\n",
       " 'https://www.cuspide.com/Libro/9789504979456/Born+Y+Quieto',\n",
       " 'https://www.cuspide.com/Libro/9789878266374/Nosotros+Dos+En+La+Tormenta',\n",
       " 'https://www.cuspide.com/Libro/9789878151885/Gaturro+Messi',\n",
       " 'https://www.cuspide.com/Libro/9789878151632/La+Scaloneta',\n",
       " 'https://www.cuspide.com/Libro/9789877950465/El+Poder+De+Las+Palabras',\n",
       " 'https://www.cuspide.com/Libro/9789501298321/Habitos+Atomicos',\n",
       " 'https://www.cuspide.com/Libro/9788425432026/El+Hombre+En+Busca+De+Sentido',\n",
       " 'https://www.cuspide.com/Libro/9789877188158/Pais+De+Mierda',\n",
       " 'https://www.cuspide.com/Libro/9789877478877/Solitario',\n",
       " 'https://www.cuspide.com/Libro/9789504982982/Alas+De+Sangre',\n",
       " 'https://www.cuspide.com/Libro/9789878220079/El+Duelo+(+Cuando+El+Dolor+Se+Hace+Carne+)',\n",
       " 'https://www.cuspide.com/Libro/9789877479102/Este+Invierno',\n",
       " 'https://www.cuspide.com/Libro/9789500213998/La+Vaca+No+Se+Calla',\n",
       " 'https://www.cuspide.com/Libro/9789507880223/Los+Cuatro+Acuerdos',\n",
       " 'https://www.cuspide.com/Libro/9789877391695/Un+Cuento+Perfecto',\n",
       " 'https://www.cuspide.com/Libro/9789874892508/Mis+Dias+En+La+Libreria+Morisaki',\n",
       " 'https://www.cuspide.com/Libro/9789504982067/Tengase+Presente',\n",
       " 'https://www.cuspide.com/Libro/9789504979395/Adios+Cachorra',\n",
       " 'https://www.cuspide.com/Libro/9789878940182/Dibu+Martinez+++Pasion+Por+El+Futbol',\n",
       " 'https://www.cuspide.com/Libro/9789877801750/Muchas+Vidas+++Muchos+Maestros',\n",
       " 'https://www.cuspide.com/Libro/9788413621654/La+Biblioteca+De+La+Medianoche',\n",
       " 'https://www.cuspide.com/Libro/9788433998064/Las+Cosas+Que+Perdimos+En+El+Fuego',\n",
       " 'https://www.cuspide.com/Libro/9789877475876/Heartstopper',\n",
       " 'https://www.cuspide.com/Libro/9789501204070/El+Amor+Es+Imposible',\n",
       " 'https://www.cuspide.com/Libro/9789878151335/Messi+++Campeon+Del+Mundo',\n",
       " 'https://www.cuspide.com/Libro/9789877364026/Las+Aventuras+De+Lyna+Y+Dani+++Elige+Tu+Historia',\n",
       " 'https://www.cuspide.com/Libro/9789504978251/Conocer+A+Peron',\n",
       " 'https://www.cuspide.com/Libro/9788413622132/La+Cancion+De+Aquiles',\n",
       " 'https://www.cuspide.com/Libro/9789874063656/Cometierra+10+Edic',\n",
       " 'https://www.cuspide.com/Libro/9789506446567/Antes+De+Que+Se+Enfrie+El+Cafe',\n",
       " 'https://www.cuspide.com/Libro/9789504979043/Los+Guemes',\n",
       " 'https://www.cuspide.com/Libro/9789506446840/La+Aventura',\n",
       " 'https://www.cuspide.com/Libro/9788433998248/Los+Peligros+De+Fumar+En+La+Cama',\n",
       " 'https://www.cuspide.com/Libro/9789507883774/Ikigai++Vintage',\n",
       " 'https://www.cuspide.com/Libro/9789874777737/Los+Siete+Maridos+De+Evelyn+Hugo',\n",
       " 'https://www.cuspide.com/Libro/9789878204284/Elementos',\n",
       " 'https://www.cuspide.com/Libro/9789501296808/Destroza+Este+Diario+(+A+Todo+Color+)',\n",
       " 'https://www.cuspide.com/Libro/9789877476583/Heartstopper+2',\n",
       " 'https://www.cuspide.com/Libro/9789878289953/El+Gato+Y+La+Ciudad',\n",
       " 'https://www.cuspide.com/Libro/9789506446758/La+Felicidad+Cabe+En+Una+Taza+De+Cafe',\n",
       " 'https://www.cuspide.com/Libro/9789500769228/Conurbano+Salvaje',\n",
       " 'https://www.cuspide.com/Libro/9789877478235/Una+Luna+Sin+Miel',\n",
       " 'https://www.cuspide.com/Libro/9789878474670/El+Secreto+De+Paris',\n",
       " 'https://www.cuspide.com/Libro/9789875661318/Como+Ganar+Amigos+E+Influir+Sobre+Las+Personas',\n",
       " 'https://www.cuspide.com/Libro/9789878988528/A+Jugar+Con+Los+Campeones',\n",
       " 'https://www.cuspide.com/Libro/9788433998859/Nuestra+Parte+De+Noche',\n",
       " 'https://www.cuspide.com/Libro/9789874863324/Meditaciones',\n",
       " 'https://www.cuspide.com/Libro/9789877478242/Nick+Y+Charlie',\n",
       " 'https://www.cuspide.com/Libro/9789504981107/Apia+De+Roma',\n",
       " 'https://www.cuspide.com/Libro/9789877254990/El+Club+De+Las+5+De+La+Ma%c3%b1ana',\n",
       " 'https://www.cuspide.com/Libro/9789504979050/Blanca+La+Ni+A+Que+Queria+Volar',\n",
       " 'https://www.cuspide.com/Libro/9789502816272/Un+Ratito+Mas',\n",
       " 'https://www.cuspide.com/Libro/9789507883569/Pensar+A+La+Japonesa',\n",
       " 'https://www.cuspide.com/Libro/9788419743237/Messi+Crack',\n",
       " 'https://www.cuspide.com/Libro/9789877476972/Heartstopper+3',\n",
       " 'https://www.cuspide.com/Libro/9788433901927/Fortuna',\n",
       " 'https://www.cuspide.com/Libro/9789874729309/Los+Arboles+Caidos+Tambien+Son+Del+Bosque',\n",
       " 'https://www.cuspide.com/Libro/9789877352306/El+Camino+Del+Artista',\n",
       " 'https://www.cuspide.com/Libro/9786316508164/Desde+La+Boca',\n",
       " 'https://www.cuspide.com/Libro/9789878977560/Mejor+Que+En+Las+Peliculas',\n",
       " 'https://www.cuspide.com/Libro/9786313000319/Heartstopper+1++Edicion+Especial',\n",
       " 'https://www.cuspide.com/Libro/9789504962137/La+Bailarina+De+Auschwitz',\n",
       " 'https://www.cuspide.com/Libro/9789871786954/Steve+Jobs++Lecciones+De+Liderazgo',\n",
       " 'https://www.cuspide.com/Libro/9789501206579/Los+7+Habitos+De+La+Gente+Altamente+Efectiva+(30+Aniversario)',\n",
       " 'https://www.cuspide.com/Libro/9789871524525/La+Revolucion+De+La+Glucosa',\n",
       " 'https://www.cuspide.com/Libro/9789876707800/Esta+No+Soy+Yo',\n",
       " 'https://www.cuspide.com/Libro/9789500442718/La+Uruguaya',\n",
       " 'https://www.cuspide.com/Libro/9789878473833/La+Interlengua',\n",
       " 'https://www.cuspide.com/Libro/9789502814919/El+Monje+Que+Vendio+Su+Ferrari',\n",
       " 'https://www.cuspide.com/Libro/9789873881602/Sana+A+Tus+Antepasados+Para+Sanar+Tu+Vida',\n",
       " 'https://www.cuspide.com/Libro/9789876127257/Los+Vestidos+De+Lena',\n",
       " 'https://www.cuspide.com/Libro/9789878281445/La+Segunda+Venida+De+Hilda+Bustamante',\n",
       " 'https://www.cuspide.com/Libro/9789507325878/Te+Espero+En+El+Fin+Del+Mundo',\n",
       " 'https://www.cuspide.com/Libro/9789877392128/Como+(+No+)+Escribi+Nuestra+Historia',\n",
       " 'https://www.cuspide.com/Libro/9788433980830/Las+Gratitudes',\n",
       " 'https://www.cuspide.com/Libro/9789878435435/Todo+Lo+Que+Nunca+Fuimos++(+Deja+Que+Ocurra+1+)_',\n",
       " 'https://www.cuspide.com/Libro/9789500768757/Sarmiento',\n",
       " 'https://www.cuspide.com/Libro/9789871138715/Tus+Zonas+Erroneas',\n",
       " 'https://www.cuspide.com/Libro/9789875665613/El+Monje+Que+Vendio+Su+Ferrari',\n",
       " 'https://www.cuspide.com/Libro/9789508702296/Compas+9++Los+Compas+Y+El+Despertar+De+La+Momia',\n",
       " 'https://www.cuspide.com/Libro/9789501532609/Lo+Nuestro+Fue+Real',\n",
       " 'https://www.cuspide.com/Libro/9789878266176/Miseria',\n",
       " 'https://www.cuspide.com/Libro/9789877477474/Heartstopper+4',\n",
       " 'https://www.cuspide.com/Libro/9789506446796/Los+Adversarios',\n",
       " 'https://www.cuspide.com/Libro/9789878151373/Gaturro+Campeones']"
      ]
     },
     "execution_count": 137,
     "metadata": {},
     "output_type": "execute_result"
    }
   ],
   "source": [
    "req = requests.get('https://www.cuspide.com/top100.aspx')\n",
    "assert req.status_code == 200, 'Hay un problema con la pagina del top'\n",
    "\n",
    "soup = BeautifulSoup(req.text, 'lxml')\n",
    "secciones = soup.find('div', attrs={'class': 'content'}).find_all('article')\n",
    "libros = [url + seccion.a.get('href') for seccion in secciones]\n",
    "libros"
   ]
  },
  {
   "cell_type": "code",
   "execution_count": 138,
   "id": "a43b9b9e",
   "metadata": {},
   "outputs": [],
   "source": [
    "libro_c = 0\n",
    "titulos = []\n",
    "precio = []\n",
    "precio_usd = []\n",
    "errores = []\n",
    "\n",
    "for libro in libros:\n",
    "    req = requests.get(libro)\n",
    "\n",
    "    try:\n",
    "        assert req.status_code == 200, f'Hay un problema con el libro del indice {libro_c}'\n",
    "    except AssertionError:\n",
    "        errores.append(libro_c)\n",
    "\n",
    "    soup = BeautifulSoup(req.text, 'lxml')\n",
    "\n",
    "    try:\n",
    "        titulos.append(soup.find('h1', attrs={'itemprop': 'name'}).find('a').get('title'))\n",
    "        precio.append(float(soup.find('div', attrs={'class': 'column-left'}).find_all('div')[-2].text.replace('AR$ ', '').replace('.','').replace(',','.')))\n",
    "        precio_usd.append(float(soup.find('div', attrs={'class': 'column-left'}).find_all('div')[-1].text.replace('U$s ', '').replace(',','.')))\n",
    "    except AttributeError:\n",
    "        print(f'Hubo un problema con el libro del indice {libro_c}')\n",
    "        errores.append(libro_c)\n",
    "    finally:\n",
    "        libro_c += 1"
   ]
  },
  {
   "cell_type": "code",
   "execution_count": 144,
   "id": "f757c8f6",
   "metadata": {},
   "outputs": [
    {
     "data": {
      "text/plain": [
       "[]"
      ]
     },
     "execution_count": 144,
     "metadata": {},
     "output_type": "execute_result"
    }
   ],
   "source": []
  }
 ],
 "metadata": {
  "kernelspec": {
   "display_name": "Python 3 (ipykernel)",
   "language": "python",
   "name": "python3"
  },
  "language_info": {
   "codemirror_mode": {
    "name": "ipython",
    "version": 3
   },
   "file_extension": ".py",
   "mimetype": "text/x-python",
   "name": "python",
   "nbconvert_exporter": "python",
   "pygments_lexer": "ipython3",
   "version": "3.9.7"
  }
 },
 "nbformat": 4,
 "nbformat_minor": 5
}
